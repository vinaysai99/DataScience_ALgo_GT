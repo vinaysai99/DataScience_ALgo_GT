{
 "cells": [
  {
   "cell_type": "code",
   "execution_count": 1,
   "id": "47aa808e",
   "metadata": {},
   "outputs": [],
   "source": [
    "import pandas as pd\n",
    "df=pd.read_csv(\"Cricket.csv\",encoding = 'unicode_escape')"
   ]
  },
  {
   "cell_type": "code",
   "execution_count": 45,
   "id": "07357d94",
   "metadata": {},
   "outputs": [],
   "source": [
    "from sklearn.cluster import KMeans\n",
    "km = KMeans(n_clusters=4,random_state=100)"
   ]
  },
  {
   "cell_type": "markdown",
   "id": "3d8a7a15",
   "metadata": {},
   "source": [
    "from sklearn import preprocessing\n",
    "le = preprocessing.LabelEncoder()\n",
    "encoded = df.apply(le.fit_transform)\n",
    "print(encoded)"
   ]
  },
  {
   "cell_type": "code",
   "execution_count": 46,
   "id": "262953a7",
   "metadata": {},
   "outputs": [
    {
     "data": {
      "text/plain": [
       "0.13128764379493202"
      ]
     },
     "execution_count": 46,
     "metadata": {},
     "output_type": "execute_result"
    }
   ],
   "source": [
    "from pyclustertend import hopkins\n",
    "\n",
    "hopkins(encoded,79)"
   ]
  },
  {
   "cell_type": "code",
   "execution_count": 47,
   "id": "9093d7b0",
   "metadata": {},
   "outputs": [
    {
     "name": "stdout",
     "output_type": "stream",
     "text": [
      "    Player  Span  Mat  Inns  NO   Runs  HS    Ave     BF     SR  100  50   0  \\\n",
      "0        1     1  463   452  41  18426   1  44.83  21367  86.23   49  96  20   \n",
      "1        2     2  404   380  41  14234   2  41.98  18048  78.86   25  93  15   \n",
      "2        3     3  375   365  39  13704   3  42.03  17046  80.39   30  82  20   \n",
      "3        4     4  445   433  18  13430   4  32.36  14725  91.20   28  68  34   \n",
      "4        5     5  448   418  39  12650   5  33.37  16020  78.96   19  77  28   \n",
      "..     ...   ...  ...   ...  ..    ...  ..    ...    ...    ...  ...  ..  ..   \n",
      "74      75    39  128   127  13   5134  60  45.03   7908  64.92   11  31   3   \n",
      "75      76    53  162   149  31   5122  61  43.40   6945  73.75    0  42   6   \n",
      "76      77    64  197   181  37   5092  28  35.36   6614  76.98    5  26   7   \n",
      "77      78    65  198   161  33   5088  62  39.75   5504  92.44    6  30  15   \n",
      "78      79     9  265   228  57   5080  53  29.70   6252  81.25    3  23  14   \n",
      "\n",
      "                           Name  \n",
      "0          SR Tendulkar (INDIA)  \n",
      "1   KC Sangakkara (Asia/ICC/SL)  \n",
      "2          RT Ponting (AUS/ICC)  \n",
      "3       ST Jayasuriya (Asia/SL)  \n",
      "4    DPMD Jayawardene (Asia/SL)  \n",
      "..                          ...  \n",
      "74            CG Greenidge (WI)  \n",
      "75          Misbah-ul-Haq (PAK)  \n",
      "76         PD Collingwood (ENG)  \n",
      "77              A Symonds (AUS)  \n",
      "78      Abdul Razzaq (Asia/PAK)  \n",
      "\n",
      "[79 rows x 14 columns]\n"
     ]
    }
   ],
   "source": [
    "df1=encoded.copy()\n",
    "df1[\"Name\"]=df[\"Player\"]\n",
    "print(df1)"
   ]
  },
  {
   "cell_type": "code",
   "execution_count": 48,
   "id": "ebaf566b",
   "metadata": {
    "scrolled": true
   },
   "outputs": [],
   "source": [
    "y_predicted = km.fit_predict(encoded[['Ave','SR']])\n",
    "df1['cluster']=y_predicted"
   ]
  },
  {
   "cell_type": "code",
   "execution_count": 49,
   "id": "3e96ccaf",
   "metadata": {},
   "outputs": [
    {
     "name": "stdout",
     "output_type": "stream",
     "text": [
      "2\n"
     ]
    },
    {
     "data": {
      "text/plain": [
       "NoneType"
      ]
     },
     "execution_count": 49,
     "metadata": {},
     "output_type": "execute_result"
    }
   ],
   "source": [
    "k = df1[df1['Name']==\"V Kohli (INDIA)\"]['cluster']\n",
    "x=print(k.iloc[0])\n",
    "type(x)"
   ]
  },
  {
   "cell_type": "code",
   "execution_count": 50,
   "id": "47f1ec08",
   "metadata": {},
   "outputs": [
    {
     "data": {
      "text/plain": [
       "1     KC Sangakkara (Asia/ICC/SL)\n",
       "2            RT Ponting (AUS/ICC)\n",
       "4      DPMD Jayawardene (Asia/SL)\n",
       "5       Inzamam-ul-Haq (Asia/PAK)\n",
       "9                BC Lara (ICC/WI)\n",
       "11     Mohammad Yousuf (Asia/PAK)\n",
       "14           M Azharuddin (INDIA)\n",
       "16               PA de Silva (SL)\n",
       "17              CH Gayle (ICC/WI)\n",
       "18              Saeed Anwar (PAK)\n",
       "23                 ME Waugh (AUS)\n",
       "26                  HH Gibbs (SA)\n",
       "29                MJ Clarke (AUS)\n",
       "30                 SR Waugh (AUS)\n",
       "31               A Ranatunga (SL)\n",
       "33              Younis Khan (PAK)\n",
       "35             Saleem Malik (PAK)\n",
       "37              GC Smith (Afr/SA)\n",
       "40                 A Flower (ZIM)\n",
       "41             Shoaib Malik (PAK)\n",
       "44               Ijaz Ahmed (PAK)\n",
       "48          WU Tharanga (Asia/SL)\n",
       "49            ML Hayden (AUS/ICC)\n",
       "53                 JN Rhodes (SA)\n",
       "54          Mohammad Hafeez (PAK)\n",
       "56                 RR Sarwan (WI)\n",
       "58                 CL Hooper (WI)\n",
       "60            Tamim Iqbal (BDESH)\n",
       "62                 WJ Cronje (SA)\n",
       "66                  IR Bell (ENG)\n",
       "68                DR Martyn (AUS)\n",
       "69               BRM Taylor (ZIM)\n",
       "72                MN Samuels (WI)\n",
       "76           PD Collingwood (ENG)\n",
       "78        Abdul Razzaq (Asia/PAK)\n",
       "Name: Name, dtype: object"
      ]
     },
     "execution_count": 50,
     "metadata": {},
     "output_type": "execute_result"
    }
   ],
   "source": [
    "a = df1[df1['cluster']==1]['Name']\n",
    "a"
   ]
  },
  {
   "cell_type": "code",
   "execution_count": 51,
   "id": "ce5055e1",
   "metadata": {},
   "outputs": [
    {
     "name": "stdout",
     "output_type": "stream",
     "text": [
      "2\n",
      "2\n"
     ]
    }
   ],
   "source": [
    "b=df1[df1['Name']==\"SR Tendulkar (INDIA)\"]['cluster']\n",
    "c=df1[df1['Name']==\"IVA Richards (WI)\"]['cluster']\n",
    "print(b.iloc[0])\n",
    "print(c.iloc[0])"
   ]
  },
  {
   "cell_type": "code",
   "execution_count": 52,
   "id": "ab16f73c",
   "metadata": {},
   "outputs": [
    {
     "data": {
      "text/plain": [
       "Text(0, 0.5, 'SR')"
      ]
     },
     "execution_count": 52,
     "metadata": {},
     "output_type": "execute_result"
    },
    {
     "data": {
      "image/png": "[encoded data removed]",
      "text/plain": [
       "<Figure size 432x288 with 1 Axes>"
      ]
     },
     "metadata": {
      "needs_background": "light"
     },
     "output_type": "display_data"
    }
   ],
   "source": [
    "from matplotlib import pyplot as plt\n",
    "plt.scatter(df['Ave'],df['SR'])\n",
    "plt.xlabel('Ave')\n",
    "plt.ylabel('SR')"
   ]
  },
  {
   "cell_type": "code",
   "execution_count": 53,
   "id": "b2b745d4",
   "metadata": {},
   "outputs": [
    {
     "data": {
      "text/plain": [
       "Text(0, 0.5, 'Strike rate')"
      ]
     },
     "execution_count": 53,
     "metadata": {},
     "output_type": "execute_result"
    },
    {
     "data": {
      "image/png": "[encoded data removed]",
      "text/plain": [
       "<Figure size 432x288 with 1 Axes>"
      ]
     },
     "metadata": {
      "needs_background": "light"
     },
     "output_type": "display_data"
    }
   ],
   "source": [
    "a1 = df1[df1.cluster==0]\n",
    "a2 = df1[df1.cluster==1]\n",
    "a3 = df1[df1.cluster==2]\n",
    "a4 = df1[df1.cluster==3]\n",
    "plt.scatter(a1['Ave'],a1['SR'],color='green')\n",
    "plt.scatter(a2['Ave'],a2['SR'],color='red')\n",
    "plt.scatter(a3['Ave'],a3['SR'],color='black')\n",
    "plt.scatter(a4['Ave'],a4['SR'],color='blue')\n",
    "plt.xlabel('Average')\n",
    "plt.ylabel('Strike rate')"
   ]
  },
  {
   "cell_type": "code",
   "execution_count": 54,
   "id": "ea411897",
   "metadata": {},
   "outputs": [
    {
     "data": {
      "text/plain": [
       "0.3377420770210726"
      ]
     },
     "execution_count": 54,
     "metadata": {},
     "output_type": "execute_result"
    }
   ],
   "source": [
    "from sklearn.metrics import silhouette_samples, silhouette_score\n",
    "sil_avg = silhouette_score(encoded[['Ave','SR']],y_predicted)\n",
    "sil_avg"
   ]
  },
  {
   "cell_type": "code",
   "execution_count": 55,
   "id": "24f790d6",
   "metadata": {},
   "outputs": [
    {
     "name": "stdout",
     "output_type": "stream",
     "text": [
      "Number of cluster is : 2 Silhouette measure :  0.47132870091524437\n",
      "Number of cluster is : 3 Silhouette measure :  0.40393804739275\n",
      "Number of cluster is : 4 Silhouette measure :  0.3377420770210726\n",
      "Number of cluster is : 5 Silhouette measure :  0.37372828238914374\n",
      "Number of cluster is : 6 Silhouette measure :  0.3877868817122899\n",
      "Number of cluster is : 7 Silhouette measure :  0.3800357691365834\n",
      "Number of cluster is : 8 Silhouette measure :  0.36693404809555924\n",
      "Number of cluster is : 9 Silhouette measure :  0.34652538155256457\n",
      "Number of cluster is : 10 Silhouette measure :  0.34513272455349064\n",
      "Number of cluster is : 11 Silhouette measure :  0.34976732826047047\n",
      "Number of cluster is : 12 Silhouette measure :  0.3628125268293126\n",
      "Number of cluster is : 13 Silhouette measure :  0.37064701038586323\n",
      "Number of cluster is : 14 Silhouette measure :  0.3458655602800936\n",
      "Number of cluster is : 15 Silhouette measure :  0.33235550968479777\n",
      "Number of cluster is : 16 Silhouette measure :  0.35472877809209236\n",
      "Number of cluster is : 17 Silhouette measure :  0.3379083459950935\n",
      "Number of cluster is : 18 Silhouette measure :  0.33029658717048904\n",
      "Number of cluster is : 19 Silhouette measure :  0.33523931893699943\n"
     ]
    }
   ],
   "source": [
    "for i in range(2,20):\n",
    "    km = KMeans(n_clusters=i,random_state=100)\n",
    "    y_predicted = km.fit_predict(encoded[['Ave','SR']])\n",
    "    sil_avg = silhouette_score(encoded[['Ave','SR']],y_predicted)\n",
    "    print(\"Number of cluster is :\",i,\"Silhouette measure : \",sil_avg)"
   ]
  },
  {
   "cell_type": "code",
   "execution_count": null,
   "id": "6e3753a3",
   "metadata": {},
   "outputs": [],
   "source": []
  }
 ],
 "metadata": {
  "kernelspec": {
   "display_name": "Python 3 (ipykernel)",
   "language": "python",
   "name": "python3"
  },
  "language_info": {
   "codemirror_mode": {
    "name": "ipython",
    "version": 3
   },
   "file_extension": ".py",
   "mimetype": "text/x-python",
   "name": "python",
   "nbconvert_exporter": "python",
   "pygments_lexer": "ipython3",
   "version": "3.6.9"
  }
 },
 "nbformat": 4,
 "nbformat_minor": 5
}
