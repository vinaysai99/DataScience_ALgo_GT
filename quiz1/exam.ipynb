{
 "cells": [
  {
   "cell_type": "code",
   "execution_count": 1,
   "id": "47aa808e",
   "metadata": {},
   "outputs": [],
   "source": [
    "import pandas as pd\n",
    "df=pd.read_csv(\"cricket.csv\",encoding = 'unicode_escape')"
   ]
  },
  {
   "cell_type": "code",
   "execution_count": 2,
   "id": "1a52dff8",
   "metadata": {},
   "outputs": [
    {
     "data": {
      "text/plain": [
       "Index(['Player', 'Span', 'Mat', 'Inns', 'NO', 'Runs', 'HS', 'Ave', 'BF', 'SR',\n",
       "       '100', '50', '0'],\n",
       "      dtype='object')"
      ]
     },
     "execution_count": 2,
     "metadata": {},
     "output_type": "execute_result"
    }
   ],
   "source": [
    "df.columns"
   ]
  },
  {
   "cell_type": "code",
   "execution_count": 3,
   "id": "07357d94",
   "metadata": {},
   "outputs": [],
   "source": [
    "from sklearn.cluster import KMeans\n",
    "km = KMeans(n_clusters=4,random_state=100)"
   ]
  },
  {
   "cell_type": "code",
   "execution_count": 4,
   "id": "32343123",
   "metadata": {},
   "outputs": [
    {
     "name": "stdout",
     "output_type": "stream",
     "text": [
      "    Player  Span  Mat  Inns  NO  Runs  HS  Ave  BF  SR  100  50   0\n",
      "0       63    18   61    68  31    78  56   68  78  59   27  40  16\n",
      "1       34    46   58    65  31    77  43   57  77  42   23  39  11\n",
      "2       57    32   55    63  29    76  41   58  76  47   26  36  16\n",
      "3       66    17   59    67  10    75  53    9  70  69   25  33  21\n",
      "4       18    40   60    66  29    74  27   14  75  43   18  35  19\n",
      "..     ...   ...  ...   ...  ..   ...  ..  ...  ..  ..  ...  ..  ..\n",
      "74      12     0    0     0   5     4  17   69  28   4   10   5   0\n",
      "75      46    51    6     2  22     3  61   62  14  20    0  16   2\n",
      "76      51    49   16    18  27     2   8   26  10  37    4   1   3\n",
      "77       3    38   17     7  24     1  37   47   0  70    5   4  11\n",
      "78       8    35   37    37  38     0   3    2   4  52    2   0  10\n",
      "\n",
      "[79 rows x 13 columns]\n"
     ]
    }
   ],
   "source": [
    "from sklearn import preprocessing\n",
    "le = preprocessing.LabelEncoder()\n",
    "encoded = df.apply(le.fit_transform)\n",
    "print(encoded)"
   ]
  },
  {
   "cell_type": "code",
   "execution_count": 5,
   "id": "9093d7b0",
   "metadata": {},
   "outputs": [
    {
     "name": "stdout",
     "output_type": "stream",
     "text": [
      "    Player  Span  Mat  Inns  NO  Runs  HS  Ave  BF  SR  100  50   0  \\\n",
      "0       63    18   61    68  31    78  56   68  78  59   27  40  16   \n",
      "1       34    46   58    65  31    77  43   57  77  42   23  39  11   \n",
      "2       57    32   55    63  29    76  41   58  76  47   26  36  16   \n",
      "3       66    17   59    67  10    75  53    9  70  69   25  33  21   \n",
      "4       18    40   60    66  29    74  27   14  75  43   18  35  19   \n",
      "..     ...   ...  ...   ...  ..   ...  ..  ...  ..  ..  ...  ..  ..   \n",
      "74      12     0    0     0   5     4  17   69  28   4   10   5   0   \n",
      "75      46    51    6     2  22     3  61   62  14  20    0  16   2   \n",
      "76      51    49   16    18  27     2   8   26  10  37    4   1   3   \n",
      "77       3    38   17     7  24     1  37   47   0  70    5   4  11   \n",
      "78       8    35   37    37  38     0   3    2   4  52    2   0  10   \n",
      "\n",
      "                           Name  \n",
      "0          SR Tendulkar (INDIA)  \n",
      "1   KC Sangakkara (Asia/ICC/SL)  \n",
      "2          RT Ponting (AUS/ICC)  \n",
      "3       ST Jayasuriya (Asia/SL)  \n",
      "4    DPMD Jayawardene (Asia/SL)  \n",
      "..                          ...  \n",
      "74            CG Greenidge (WI)  \n",
      "75          Misbah-ul-Haq (PAK)  \n",
      "76         PD Collingwood (ENG)  \n",
      "77              A Symonds (AUS)  \n",
      "78      Abdul Razzaq (Asia/PAK)  \n",
      "\n",
      "[79 rows x 14 columns]\n"
     ]
    }
   ],
   "source": [
    "df1=encoded.copy()\n",
    "df1[\"Name\"]=df[\"Player\"]\n",
    "print(df1)"
   ]
  },
  {
   "cell_type": "code",
   "execution_count": 6,
   "id": "ebaf566b",
   "metadata": {},
   "outputs": [
    {
     "data": {
      "text/plain": [
       "array([1, 1, 1, 0, 0, 3, 3, 3, 3, 1, 1, 3, 0, 1, 2, 1, 0, 0, 0, 3, 0, 3,\n",
       "       2, 3, 0, 1, 0, 0, 2, 1, 2, 0, 3, 2, 1, 2, 2, 0, 3, 3, 2, 0, 1, 2,\n",
       "       0, 2, 1, 2, 2, 1, 0, 3, 2, 0, 2, 2, 3, 0, 2, 1, 0, 0, 3, 1, 1, 1,\n",
       "       0, 2, 3, 2, 1, 2, 2, 2, 3, 3, 0, 1, 0])"
      ]
     },
     "execution_count": 6,
     "metadata": {},
     "output_type": "execute_result"
    }
   ],
   "source": [
    "y_predicted = km.fit_predict(encoded[['Ave','SR']])\n",
    "y_predicted"
   ]
  },
  {
   "cell_type": "code",
   "execution_count": 7,
   "id": "d9c0704c",
   "metadata": {},
   "outputs": [
    {
     "name": "stdout",
     "output_type": "stream",
     "text": [
      "    Player  Span  Mat  Inns  NO  Runs  HS  Ave  BF  SR  100  50   0  \\\n",
      "0       63    18   61    68  31    78  56   68  78  59   27  40  16   \n",
      "1       34    46   58    65  31    77  43   57  77  42   23  39  11   \n",
      "2       57    32   55    63  29    76  41   58  76  47   26  36  16   \n",
      "3       66    17   59    67  10    75  53    9  70  69   25  33  21   \n",
      "4       18    40   60    66  29    74  27   14  75  43   18  35  19   \n",
      "..     ...   ...  ...   ...  ..   ...  ..  ...  ..  ..  ...  ..  ..   \n",
      "74      12     0    0     0   5     4  17   69  28   4   10   5   0   \n",
      "75      46    51    6     2  22     3  61   62  14  20    0  16   2   \n",
      "76      51    49   16    18  27     2   8   26  10  37    4   1   3   \n",
      "77       3    38   17     7  24     1  37   47   0  70    5   4  11   \n",
      "78       8    35   37    37  38     0   3    2   4  52    2   0  10   \n",
      "\n",
      "                           Name  cluster  \n",
      "0          SR Tendulkar (INDIA)        1  \n",
      "1   KC Sangakkara (Asia/ICC/SL)        1  \n",
      "2          RT Ponting (AUS/ICC)        1  \n",
      "3       ST Jayasuriya (Asia/SL)        0  \n",
      "4    DPMD Jayawardene (Asia/SL)        0  \n",
      "..                          ...      ...  \n",
      "74            CG Greenidge (WI)        3  \n",
      "75          Misbah-ul-Haq (PAK)        3  \n",
      "76         PD Collingwood (ENG)        0  \n",
      "77              A Symonds (AUS)        1  \n",
      "78      Abdul Razzaq (Asia/PAK)        0  \n",
      "\n",
      "[79 rows x 15 columns]\n"
     ]
    }
   ],
   "source": [
    "df1['cluster']=y_predicted\n",
    "print(df1)"
   ]
  },
  {
   "cell_type": "code",
   "execution_count": 8,
   "id": "3e96ccaf",
   "metadata": {},
   "outputs": [
    {
     "name": "stdout",
     "output_type": "stream",
     "text": [
      "1\n"
     ]
    },
    {
     "data": {
      "text/plain": [
       "NoneType"
      ]
     },
     "execution_count": 8,
     "metadata": {},
     "output_type": "execute_result"
    }
   ],
   "source": [
    "k = df1[df1['Name']==\"V Kohli (INDIA)\"]['cluster']\n",
    "x=print(k.iloc[0])\n",
    "type(x)"
   ]
  },
  {
   "cell_type": "code",
   "execution_count": 9,
   "id": "47f1ec08",
   "metadata": {},
   "outputs": [
    {
     "data": {
      "text/plain": [
       "0            SR Tendulkar (INDIA)\n",
       "1     KC Sangakkara (Asia/ICC/SL)\n",
       "2            RT Ponting (AUS/ICC)\n",
       "9                BC Lara (ICC/WI)\n",
       "10                TM Dilshan (SL)\n",
       "13          MS Dhoni (Asia/INDIA)\n",
       "15        AB de Villiers (Afr/SA)\n",
       "25                V Kohli (INDIA)\n",
       "29                MJ Clarke (AUS)\n",
       "34                   HM Amla (SA)\n",
       "42              IVA Richards (WI)\n",
       "46               LRPL Taylor (NZ)\n",
       "49            ML Hayden (AUS/ICC)\n",
       "59                SR Watson (AUS)\n",
       "63                MJ Guptill (NZ)\n",
       "64               MEK Hussey (AUS)\n",
       "65              RG Sharma (INDIA)\n",
       "70              G Gambhir (INDIA)\n",
       "77                A Symonds (AUS)\n",
       "Name: Name, dtype: object"
      ]
     },
     "execution_count": 9,
     "metadata": {},
     "output_type": "execute_result"
    }
   ],
   "source": [
    "a = df1[df1['cluster']==1]['Name']\n",
    "a"
   ]
  },
  {
   "cell_type": "code",
   "execution_count": 10,
   "id": "ce5055e1",
   "metadata": {},
   "outputs": [
    {
     "name": "stdout",
     "output_type": "stream",
     "text": [
      "1\n",
      "1\n"
     ]
    }
   ],
   "source": [
    "b=df1[df1['Name']==\"SR Tendulkar (INDIA)\"]['cluster']\n",
    "c=df1[df1['Name']==\"IVA Richards (WI)\"]['cluster']\n",
    "print(b.iloc[0])\n",
    "print(c.iloc[0])"
   ]
  },
  {
   "cell_type": "code",
   "execution_count": 12,
   "id": "ab16f73c",
   "metadata": {},
   "outputs": [
    {
     "data": {
      "text/plain": [
       "Text(0, 0.5, 'SR')"
      ]
     },
     "execution_count": 12,
     "metadata": {},
     "output_type": "execute_result"
    },
    {
     "data": {
      "image/png": "[encoded data removed]",
      "text/plain": [
       "<Figure size 432x288 with 1 Axes>"
      ]
     },
     "metadata": {
      "needs_background": "light"
     },
     "output_type": "display_data"
    }
   ],
   "source": [
    "from matplotlib import pyplot as plt\n",
    "plt.scatter(df['Ave'],df['SR'])\n",
    "plt.xlabel('Ave')\n",
    "plt.ylabel('SR')"
   ]
  },
  {
   "cell_type": "code",
   "execution_count": 13,
   "id": "b2b745d4",
   "metadata": {},
   "outputs": [
    {
     "data": {
      "text/plain": [
       "Text(0, 0.5, 'Strike rate')"
      ]
     },
     "execution_count": 13,
     "metadata": {},
     "output_type": "execute_result"
    },
    {
     "data": {
      "image/png": "[encoded data removed]",
      "text/plain": [
       "<Figure size 432x288 with 1 Axes>"
      ]
     },
     "metadata": {
      "needs_background": "light"
     },
     "output_type": "display_data"
    }
   ],
   "source": [
    "a1 = df1[df1.cluster==0]\n",
    "a2 = df1[df1.cluster==1]\n",
    "a3 = df1[df1.cluster==2]\n",
    "a4 = df1[df1.cluster==3]\n",
    "plt.scatter(a1['Ave'],a1['SR'],color='green')\n",
    "plt.scatter(a2['Ave'],a2['SR'],color='red')\n",
    "plt.scatter(a3['Ave'],a3['SR'],color='black')\n",
    "plt.scatter(a4['Ave'],a4['SR'],color='blue')\n",
    "plt.xlabel('Average')\n",
    "plt.ylabel('Strike rate')"
   ]
  },
  {
   "cell_type": "code",
   "execution_count": 14,
   "id": "ea411897",
   "metadata": {},
   "outputs": [
    {
     "data": {
      "text/plain": [
       "0.39877800857123874"
      ]
     },
     "execution_count": 14,
     "metadata": {},
     "output_type": "execute_result"
    }
   ],
   "source": [
    "from sklearn.metrics import silhouette_samples, silhouette_score\n",
    "sil_avg = silhouette_score(encoded[['Ave','SR']],y_predicted)\n",
    "sil_avg"
   ]
  },
  {
   "cell_type": "code",
   "execution_count": null,
   "id": "24f790d6",
   "metadata": {},
   "outputs": [],
   "source": []
  }
 ],
 "metadata": {
  "kernelspec": {
   "display_name": "Python 3 (ipykernel)",
   "language": "python",
   "name": "python3"
  },
  "language_info": {
   "codemirror_mode": {
    "name": "ipython",
    "version": 3
   },
   "file_extension": ".py",
   "mimetype": "text/x-python",
   "name": "python",
   "nbconvert_exporter": "python",
   "pygments_lexer": "ipython3",
   "version": "3.6.9"
  }
 },
 "nbformat": 4,
 "nbformat_minor": 5
}
